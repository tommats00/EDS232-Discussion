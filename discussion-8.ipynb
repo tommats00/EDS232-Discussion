{
 "cells": [
  {
   "cell_type": "code",
   "execution_count": 1,
   "metadata": {},
   "outputs": [],
   "source": [
    "import numpy as np\n",
    "import os\n",
    "from PIL import Image\n",
    "import matplotlib.pyplot as plt\n",
    "from sklearn.decomposition import PCA\n",
    "from sklearn.cluster import KMeans\n",
    "from matplotlib.patches import Patch\n",
    "from ipywidgets import IntSlider, interact, Layout\n",
    "from IPython.display import display\n",
    "import zipfile"
   ]
  },
  {
   "cell_type": "code",
   "execution_count": 6,
   "metadata": {},
   "outputs": [
    {
     "name": "stdout",
     "output_type": "stream",
     "text": [
      "Files extracted to C:/MEDS/EDS_232/EDS232-Discussion/data/plant_disease\n"
     ]
    }
   ],
   "source": [
    "def unzip(zip_path, extract_to):\n",
    "    # Ensure the extraction directory exists\n",
    "    if not os.path.exists(extract_to):\n",
    "        os.makedirs(extract_to)\n",
    "\n",
    "    # Open the zip file\n",
    "    with zipfile.ZipFile(zip_path, 'r') as zip_ref:\n",
    "        # Extract all the contents into the directory\n",
    "        zip_ref.extractall(extract_to)\n",
    "        print(f\"Files extracted to {extract_to}\")\n",
    "unzip(\"C:/MEDS/EDS_232/EDS232-Discussion/data/plant_disease.zip\", \"C:/MEDS/EDS_232/EDS232-Discussion/data/plant_disease\")\n"
   ]
  },
  {
   "cell_type": "code",
   "execution_count": 14,
   "metadata": {},
   "outputs": [
    {
     "ename": "FileNotFoundError",
     "evalue": "[WinError 3] The system cannot find the path specified: ''",
     "output_type": "error",
     "traceback": [
      "\u001b[1;31m---------------------------------------------------------------------------\u001b[0m",
      "\u001b[1;31mFileNotFoundError\u001b[0m                         Traceback (most recent call last)",
      "Cell \u001b[1;32mIn[14], line 37\u001b[0m\n\u001b[0;32m     34\u001b[0m     \u001b[38;5;28;01mreturn\u001b[39;00m np\u001b[38;5;241m.\u001b[39marray(images), np\u001b[38;5;241m.\u001b[39marray(labels), class_names\n\u001b[0;32m     36\u001b[0m data_path \u001b[38;5;241m=\u001b[39m \u001b[38;5;28minput\u001b[39m(\u001b[38;5;124m\"\u001b[39m\u001b[38;5;124mC:/MEDS/EDS_232/EDS232-Discussion/data/plant_disease\u001b[39m\u001b[38;5;124m\"\u001b[39m)\n\u001b[1;32m---> 37\u001b[0m images, labels, class_names \u001b[38;5;241m=\u001b[39m \u001b[43mload_images\u001b[49m\u001b[43m(\u001b[49m\u001b[43mdata_path\u001b[49m\u001b[43m)\u001b[49m\n\u001b[0;32m     38\u001b[0m \u001b[38;5;28mprint\u001b[39m(\u001b[38;5;124mf\u001b[39m\u001b[38;5;124m\"\u001b[39m\u001b[38;5;124mLoaded \u001b[39m\u001b[38;5;132;01m{\u001b[39;00m\u001b[38;5;28mlen\u001b[39m(images)\u001b[38;5;132;01m}\u001b[39;00m\u001b[38;5;124m images from \u001b[39m\u001b[38;5;132;01m{\u001b[39;00m\u001b[38;5;28mlen\u001b[39m(class_names)\u001b[38;5;132;01m}\u001b[39;00m\u001b[38;5;124m disease classes\u001b[39m\u001b[38;5;124m\"\u001b[39m)\n",
      "Cell \u001b[1;32mIn[14], line 8\u001b[0m, in \u001b[0;36mload_images\u001b[1;34m(base_path, max_per_folder)\u001b[0m\n\u001b[0;32m      5\u001b[0m labels \u001b[38;5;241m=\u001b[39m [] \u001b[38;5;66;03m# Empty list to store label of each images\u001b[39;00m\n\u001b[0;32m      6\u001b[0m class_names \u001b[38;5;241m=\u001b[39m [] \u001b[38;5;66;03m# Empty list to store the names of the folders for all images\u001b[39;00m\n\u001b[1;32m----> 8\u001b[0m \u001b[38;5;28;01mfor\u001b[39;00m i, folder \u001b[38;5;129;01min\u001b[39;00m \u001b[38;5;28menumerate\u001b[39m(\u001b[38;5;28msorted\u001b[39m(\u001b[43mos\u001b[49m\u001b[38;5;241;43m.\u001b[39;49m\u001b[43mlistdir\u001b[49m\u001b[43m(\u001b[49m\u001b[43mbase_path\u001b[49m\u001b[43m)\u001b[49m)):\n\u001b[0;32m      9\u001b[0m     folder_path \u001b[38;5;241m=\u001b[39m os\u001b[38;5;241m.\u001b[39mpath\u001b[38;5;241m.\u001b[39mjoin(base_path, folder) \u001b[38;5;66;03m# Join base path with folders to iterate over\u001b[39;00m\n\u001b[0;32m     10\u001b[0m     \u001b[38;5;28;01mif\u001b[39;00m \u001b[38;5;129;01mnot\u001b[39;00m os\u001b[38;5;241m.\u001b[39mpath\u001b[38;5;241m.\u001b[39misdir(folder_path):\n",
      "\u001b[1;31mFileNotFoundError\u001b[0m: [WinError 3] The system cannot find the path specified: ''"
     ]
    }
   ],
   "source": [
    "# Function to open and standardize images used in model\n",
    "\n",
    "def load_images(base_path, max_per_folder=20):\n",
    "    images = [] # Empty list to store images\n",
    "    labels = [] # Empty list to store label of each images\n",
    "    class_names = [] # Empty list to store the names of the folders for all images\n",
    "\n",
    "    for i, folder in enumerate(sorted(os.listdir(base_path))):\n",
    "        folder_path = os.path.join(base_path, folder) # Join base path with folders to iterate over\n",
    "        if not os.path.isdir(folder_path):\n",
    "            continue\n",
    "\n",
    "        class_names.append(folder)\n",
    "        print(f\"Loading from {folder}...\")\n",
    "\n",
    "        count = 0\n",
    "        for img_file in os.listdir(folder_path): # Iterate over each item in each folder\n",
    "            if count >= max_per_folder: # Stop when counter gets to 20 images\n",
    "                break\n",
    "\n",
    "            if img_file.lower().endswith(('.png', '.jpg', '.jpeg')): # Ensure file in folder is correct format\n",
    "                try:\n",
    "                    img_path = os.path.join(folder_path, img_file)\n",
    "                    with Image.open(img_path) as img: # Open image\n",
    "                        img = img.convert('RGB') # Convert it to RGB to standardize color channels\n",
    "                        img = img.resize((100, 100), Image.Resampling.LANCZOS) # Resize image using LANCZOS resampling method\n",
    "\n",
    "                    images.append(np.array(img)) # Convert image to array and add to image list\n",
    "                    labels.append(i) # Add label to label list \n",
    "                    count += 1\n",
    "                except Exception as e: # Print error message if error with a file\n",
    "                    print(f\"Error with {img_file}: {e}\")\n",
    "\n",
    "    return np.array(images), np.array(labels), class_names\n",
    "\n",
    "data_path = input(\"C:/MEDS/EDS_232/EDS232-Discussion/data/plant_disease\")\n",
    "images, labels, class_names = load_images(data_path)\n",
    "print(f\"Loaded {len(images)} images from {len(class_names)} disease classes\")"
   ]
  },
  {
   "cell_type": "code",
   "execution_count": null,
   "metadata": {},
   "outputs": [],
   "source": [
    "# Fucntion to extract features and perform PCA\n",
    "\n",
    "def extract_features_and_reduce(images):\n",
    "    features = []\n",
    "    for img_array in images:\n",
    "        img = Image.fromarray(img_array) # COnver tback into an image\n",
    "        histogram = np.array(img.histogram()).astype('float32')\n",
    "        histogram = histogram / histogram.sum() # Normalize histogram\n",
    "        features.append(histogram)\n",
    "    features = np.array(features) # Convert back to array for PCA\n",
    "    print(f\"Features shape: {features.shape}\")\n",
    "\n",
    "    # Perform PCA\n",
    "    pca = PCA(n_components = 2)\n",
    "    reduced_features = pca.fit_transform(features)\n",
    "    print(f\"Reduced feature shape: {reduced_features.shape}\")\n",
    "    return reduced_features\n",
    "\n",
    "features = extract_features_and_reduce(images)"
   ]
  },
  {
   "cell_type": "code",
   "execution_count": null,
   "metadata": {},
   "outputs": [],
   "source": [
    "# Function to create interactive widget for clustering with visualization\n",
    "\n",
    "def create_interactive_widget(images, features, labels, class_names):\n",
    "    slider = IntSlider(value = 3, min = 2, max = 15, description = \"Clusters:\", layout = Layout(width = '80%'))\n",
    "\n",
    "    # Function that updates clusters based on the users slider input\n",
    "    def update_clusters(cluster_num):\n",
    "\n",
    "        plt.figure(figsize = (15, 7))\n",
    "\n",
    "        kmeans = Kmeans(n_clusters = cluster_num, random_state = 42, n_init = 10)\n",
    "        cluster_labels = kmeans.fit_predict(features)\n",
    "\n",
    "        # Visualize clusters\n",
    "        scatter = plt.scatter(features[:, 0], features[:, 1], c = cluster_labels, cmap='viridis')\n",
    "        plt.title('PCA Reduced Features by Cluster')\n",
    "        plt.xlabel('PCA Component 1')\n",
    "        plt.ylabel('PCA Component 2')\n",
    "        plt.grid(True)\n",
    "\n",
    "        # Update legend\n",
    "        colors = plt.cm.viridis(np.linespace(0, 1, cluster_num))\n",
    "\n",
    "        legends = [Patch(facecolor=clr, label = f'cluster {i + 1}') for i, clr in enumerate(colors)]\n",
    "        plt.legend(handles = legends, title = 'Clusters')\n",
    "\n",
    "        # Show plot\n",
    "        plt.tight_layout()\n",
    "        plt.show()\n",
    "\n",
    "        # Print results for each cluster\n",
    "        print(f\"Results for {cluster_num} clusters:\")\n",
    "        for i in range(cluster_num): print(f\"Cluster {i + 1}: {np.sum(cluster_labels == i)} samples\")\n",
    "\n",
    "        # Display a few images from each cluster\n",
    "        for i in range(cluster_num):\n",
    "            plt_figure(figsize = (15, 5))\n",
    "\n",
    "            # Find the indices of all images that belong to current cluster\n",
    "            cluster_indices = np.where(cluster_labels == i)[0]\n",
    "\n",
    "            # Randomly select 5 indices\n",
    "            selected_indices = np.random.choice(cluster_indices, min(len(cluster_indices), 5), replace = False)\n",
    "\n",
    "            for j, idx in enumerate(selected_indices):\n",
    "\n",
    "                plt.subplot(1, 5, j + 1)\n",
    "                plt.imshow(images[idx])\n",
    "                plt.title(f\"Cluster{i+1}\")\n",
    "                plt.axis('off')\n",
    "            plt.show()\n",
    "\n",
    "    interact(update_clusters, cluster_num = slider)\n",
    "\n",
    "knn_widget = create_interactive_widget(images, features, labels, class_names)\n",
    "display(knn_widget)\n",
    "\n",
    "            "
   ]
  }
 ],
 "metadata": {
  "kernelspec": {
   "display_name": "ml-env",
   "language": "python",
   "name": "python3"
  },
  "language_info": {
   "codemirror_mode": {
    "name": "ipython",
    "version": 3
   },
   "file_extension": ".py",
   "mimetype": "text/x-python",
   "name": "python",
   "nbconvert_exporter": "python",
   "pygments_lexer": "ipython3",
   "version": "3.10.16"
  }
 },
 "nbformat": 4,
 "nbformat_minor": 2
}
